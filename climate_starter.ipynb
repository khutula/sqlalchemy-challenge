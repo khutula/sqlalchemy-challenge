{
 "cells": [
  {
   "cell_type": "code",
   "execution_count": 130,
   "metadata": {},
   "outputs": [],
   "source": [
    "# import matplotlib dependencies and styles\n",
    "%matplotlib inline\n",
    "from matplotlib import style\n",
    "style.use('fivethirtyeight')\n",
    "import matplotlib.pyplot as plt\n",
    "\n",
    "# import general dependencies to be used\n",
    "import numpy as np\n",
    "import pandas as pd\n",
    "from datetime import datetime\n",
    "from dateutil.relativedelta import relativedelta\n",
    "\n",
    "# Python SQL toolkit and Object Relational Mapper\n",
    "import sqlalchemy\n",
    "from sqlalchemy.ext.automap import automap_base\n",
    "from sqlalchemy.orm import Session\n",
    "from sqlalchemy import create_engine, func, desc"
   ]
  },
  {
   "cell_type": "markdown",
   "metadata": {},
   "source": [
    "# Reflect Tables into SQLAlchemy ORM"
   ]
  },
  {
   "cell_type": "code",
   "execution_count": 4,
   "metadata": {},
   "outputs": [],
   "source": [
    "# create engine to hawaii.sqlite\n",
    "database_path = \"Resources/hawaii.sqlite\"\n",
    "engine = create_engine(f\"sqlite:///{database_path}\")"
   ]
  },
  {
   "cell_type": "code",
   "execution_count": 5,
   "metadata": {},
   "outputs": [],
   "source": [
    "# reflect an existing database into a new model\n",
    "Base = automap_base()\n",
    "\n",
    "# reflect the tables\n",
    "Base.prepare(engine, reflect=True)"
   ]
  },
  {
   "cell_type": "code",
   "execution_count": 6,
   "metadata": {},
   "outputs": [
    {
     "data": {
      "text/plain": [
       "['measurement', 'station']"
      ]
     },
     "execution_count": 6,
     "metadata": {},
     "output_type": "execute_result"
    }
   ],
   "source": [
    "# view all of the classes that automap found\n",
    "Base.classes.keys()"
   ]
  },
  {
   "cell_type": "code",
   "execution_count": 7,
   "metadata": {},
   "outputs": [],
   "source": [
    "# save references to each table\n",
    "Measurement = Base.classes.measurement\n",
    "Station = Base.classes.station"
   ]
  },
  {
   "cell_type": "code",
   "execution_count": 8,
   "metadata": {},
   "outputs": [],
   "source": [
    "# create session from Python to the database\n",
    "session = Session(engine)"
   ]
  },
  {
   "cell_type": "code",
   "execution_count": 9,
   "metadata": {},
   "outputs": [
    {
     "data": {
      "text/plain": [
       "{'_sa_instance_state': <sqlalchemy.orm.state.InstanceState at 0x1c6e59a5d30>,\n",
       " 'tobs': 65.0,\n",
       " 'prcp': 0.08,\n",
       " 'id': 1,\n",
       " 'station': 'USC00519397',\n",
       " 'date': '2010-01-01'}"
      ]
     },
     "execution_count": 9,
     "metadata": {},
     "output_type": "execute_result"
    }
   ],
   "source": [
    "# look at columns for Measurement\n",
    "first_row_measurement = session.query(Measurement).first()\n",
    "first_row_measurement.__dict__"
   ]
  },
  {
   "cell_type": "code",
   "execution_count": 10,
   "metadata": {},
   "outputs": [
    {
     "data": {
      "text/plain": [
       "{'_sa_instance_state': <sqlalchemy.orm.state.InstanceState at 0x1c6e59ce460>,\n",
       " 'longitude': -157.8168,\n",
       " 'name': 'WAIKIKI 717.2, HI US',\n",
       " 'id': 1,\n",
       " 'elevation': 3.0,\n",
       " 'latitude': 21.2716,\n",
       " 'station': 'USC00519397'}"
      ]
     },
     "execution_count": 10,
     "metadata": {},
     "output_type": "execute_result"
    }
   ],
   "source": [
    "# look at columns for Station\n",
    "first_row_station = session.query(Station).first()\n",
    "first_row_station.__dict__"
   ]
  },
  {
   "cell_type": "markdown",
   "metadata": {},
   "source": [
    "# Exploratory Precipitation Analysis"
   ]
  },
  {
   "cell_type": "code",
   "execution_count": 11,
   "metadata": {},
   "outputs": [
    {
     "data": {
      "text/plain": [
       "'2017-08-23'"
      ]
     },
     "execution_count": 11,
     "metadata": {},
     "output_type": "execute_result"
    }
   ],
   "source": [
    "# find the most recent date in the data set\n",
    "recent_date_str = session.query(Measurement.date).order_by(Measurement.date.desc()).first()\n",
    "recent_date_str = recent_date_str[0]\n",
    "recent_date_str"
   ]
  },
  {
   "cell_type": "code",
   "execution_count": 12,
   "metadata": {},
   "outputs": [],
   "source": [
    "### Design a query to retrieve the last 12 months of precipitation data and plot the results. \n",
    "### Starting from the most recent data point in the database. \n",
    "\n",
    "# calculate the date one year from the last date in data set\n",
    "recent_date = datetime.strptime(recent_date_str, '%Y-%m-%d').date()\n",
    "year_prior = recent_date - relativedelta(years=1)\n",
    "year_prior_string = year_prior.strftime(\"%Y-%m-%d\")"
   ]
  },
  {
   "cell_type": "code",
   "execution_count": 137,
   "metadata": {},
   "outputs": [
    {
     "data": {
      "text/plain": [
       "[(1.79, '2016-08-23'),\n",
       " (2.28, '2016-08-24'),\n",
       " (0.21, '2016-08-25'),\n",
       " (0.04, '2016-08-26'),\n",
       " (0.18, '2016-08-27'),\n",
       " (2.07, '2016-08-28'),\n",
       " (0.9, '2016-08-29'),\n",
       " (0.05, '2016-08-30'),\n",
       " (2.46, '2016-08-31'),\n",
       " (0.02, '2016-09-01'),\n",
       " (0.19, '2016-09-02'),\n",
       " (1.0, '2016-09-03'),\n",
       " (0.74, '2016-09-04'),\n",
       " (0.18, '2016-09-05'),\n",
       " (1.0, '2016-09-06'),\n",
       " (1.35, '2016-09-07'),\n",
       " (0.22, '2016-09-08'),\n",
       " (0.35, '2016-09-09'),\n",
       " (1.16, '2016-09-10'),\n",
       " (0.6, '2016-09-11'),\n",
       " (1.04, '2016-09-12'),\n",
       " (1.2, '2016-09-13'),\n",
       " (6.7, '2016-09-14'),\n",
       " (3.35, '2016-09-15'),\n",
       " (0.61, '2016-09-16'),\n",
       " (0.36, '2016-09-17'),\n",
       " (0.42, '2016-09-18'),\n",
       " (0.25, '2016-09-19'),\n",
       " (0.43, '2016-09-20'),\n",
       " (1.02, '2016-09-21'),\n",
       " (0.75, '2016-09-22'),\n",
       " (0.94, '2016-09-23'),\n",
       " (0.27, '2016-09-24'),\n",
       " (0.04, '2016-09-25'),\n",
       " (1.02, '2016-09-26'),\n",
       " (1.0, '2016-09-27'),\n",
       " (0.08, '2016-09-28'),\n",
       " (1.49, '2016-09-29'),\n",
       " (0.38, '2016-09-30'),\n",
       " (1.02, '2016-10-01'),\n",
       " (0.61, '2016-10-02'),\n",
       " (0.46, '2016-10-03'),\n",
       " (3.46, '2016-10-04'),\n",
       " (0.81, '2016-10-05'),\n",
       " (0.07, '2016-10-06'),\n",
       " (0.01, '2016-10-07'),\n",
       " (0.04, '2016-10-08'),\n",
       " (0.0, '2016-10-09'),\n",
       " (0.0, '2016-10-10'),\n",
       " (0.35, '2016-10-11'),\n",
       " (0.03, '2016-10-12'),\n",
       " (0.06, '2016-10-13'),\n",
       " (0.0, '2016-10-14'),\n",
       " (0.33, '2016-10-15'),\n",
       " (0.0, '2016-10-16'),\n",
       " (0.38, '2016-10-17'),\n",
       " (0.48, '2016-10-18'),\n",
       " (0.11, '2016-10-19'),\n",
       " (1.0, '2016-10-20'),\n",
       " (0.15, '2016-10-21'),\n",
       " (1.37, '2016-10-22'),\n",
       " (0.24, '2016-10-23'),\n",
       " (0.7, '2016-10-24'),\n",
       " (0.4, '2016-10-25'),\n",
       " (0.2, '2016-10-26'),\n",
       " (1.25, '2016-10-27'),\n",
       " (0.37, '2016-10-28'),\n",
       " (0.26, '2016-10-29'),\n",
       " (0.95, '2016-10-30'),\n",
       " (1.35, '2016-10-31'),\n",
       " (0.1, '2016-11-01'),\n",
       " (0.04, '2016-11-02'),\n",
       " (0.02, '2016-11-03'),\n",
       " (0.06, '2016-11-04'),\n",
       " (0.38, '2016-11-05'),\n",
       " (0.05, '2016-11-06'),\n",
       " (0.13, '2016-11-07'),\n",
       " (0.53, '2016-11-08'),\n",
       " (0.17, '2016-11-09'),\n",
       " (0.01, '2016-11-10'),\n",
       " (0.0, '2016-11-11'),\n",
       " (0.0, '2016-11-12'),\n",
       " (0.0, '2016-11-13'),\n",
       " (0.06, '2016-11-14'),\n",
       " (0.05, '2016-11-15'),\n",
       " (0.91, '2016-11-16'),\n",
       " (0.03, '2016-11-17'),\n",
       " (0.02, '2016-11-18'),\n",
       " (0.13, '2016-11-19'),\n",
       " (0.4, '2016-11-20'),\n",
       " (2.87, '2016-11-21'),\n",
       " (2.11, '2016-11-22'),\n",
       " (0.25, '2016-11-23'),\n",
       " (0.72, '2016-11-24'),\n",
       " (1.03, '2016-11-25'),\n",
       " (0.3, '2016-11-26'),\n",
       " (0.29, '2016-11-27'),\n",
       " (0.69, '2016-11-28'),\n",
       " (0.2, '2016-11-29'),\n",
       " (0.79, '2016-11-30'),\n",
       " (0.72, '2016-12-01'),\n",
       " (1.27, '2016-12-02'),\n",
       " (1.62, '2016-12-03'),\n",
       " (0.32, '2016-12-04'),\n",
       " (1.6, '2016-12-05'),\n",
       " (0.02, '2016-12-06'),\n",
       " (0.17, '2016-12-07'),\n",
       " (0.27, '2016-12-08'),\n",
       " (0.52, '2016-12-09'),\n",
       " (0.05, '2016-12-10'),\n",
       " (0.13, '2016-12-11'),\n",
       " (0.02, '2016-12-12'),\n",
       " (0.34, '2016-12-13'),\n",
       " (0.92, '2016-12-14'),\n",
       " (0.14, '2016-12-15'),\n",
       " (0.03, '2016-12-16'),\n",
       " (0.16, '2016-12-17'),\n",
       " (0.29, '2016-12-18'),\n",
       " (0.21, '2016-12-19'),\n",
       " (0.02, '2016-12-20'),\n",
       " (0.55, '2016-12-21'),\n",
       " (1.24, '2016-12-22'),\n",
       " (0.83, '2016-12-23'),\n",
       " (1.08, '2016-12-24'),\n",
       " (0.38, '2016-12-25'),\n",
       " (1.48, '2016-12-26'),\n",
       " (0.14, '2016-12-27'),\n",
       " (0.14, '2016-12-28'),\n",
       " (1.03, '2016-12-29'),\n",
       " (2.37, '2016-12-30'),\n",
       " (0.9, '2016-12-31'),\n",
       " (0.29, '2017-01-01'),\n",
       " (0.01, '2017-01-02'),\n",
       " (0.0, '2017-01-03'),\n",
       " (0.18, '2017-01-04'),\n",
       " (0.47, '2017-01-05'),\n",
       " (0.59, '2017-01-06'),\n",
       " (0.06, '2017-01-07'),\n",
       " (0.03, '2017-01-08'),\n",
       " (0.0, '2017-01-09'),\n",
       " (0.0, '2017-01-10'),\n",
       " (0.0, '2017-01-11'),\n",
       " (0.0, '2017-01-12'),\n",
       " (0.0, '2017-01-13'),\n",
       " (0.01, '2017-01-14'),\n",
       " (0.01, '2017-01-15'),\n",
       " (0.0, '2017-01-16'),\n",
       " (0.0, '2017-01-17'),\n",
       " (0.07, '2017-01-18'),\n",
       " (0.02, '2017-01-19'),\n",
       " (0.0, '2017-01-20'),\n",
       " (0.11, '2017-01-21'),\n",
       " (0.72, '2017-01-22'),\n",
       " (0.85, '2017-01-23'),\n",
       " (1.85, '2017-01-24'),\n",
       " (2.64, '2017-01-25'),\n",
       " (0.1, '2017-01-26'),\n",
       " (0.03, '2017-01-27'),\n",
       " (0.14, '2017-01-28'),\n",
       " (0.55, '2017-01-29'),\n",
       " (0.05, '2017-01-30'),\n",
       " (0.0, '2017-01-31'),\n",
       " (0.0, '2017-02-01'),\n",
       " (0.0, '2017-02-02'),\n",
       " (0.0, '2017-02-03'),\n",
       " (0.0, '2017-02-04'),\n",
       " (0.0, '2017-02-05'),\n",
       " (0.18, '2017-02-06'),\n",
       " (1.8, '2017-02-07'),\n",
       " (1.08, '2017-02-08'),\n",
       " (0.02, '2017-02-09'),\n",
       " (0.0, '2017-02-10'),\n",
       " (5.04, '2017-02-11'),\n",
       " (2.98, '2017-02-12'),\n",
       " (2.9, '2017-02-13'),\n",
       " (0.01, '2017-02-14'),\n",
       " (0.07, '2017-02-15'),\n",
       " (0.73, '2017-02-16'),\n",
       " (0.8, '2017-02-17'),\n",
       " (0.01, '2017-02-18'),\n",
       " (0.1, '2017-02-19'),\n",
       " (0.0, '2017-02-20'),\n",
       " (0.07, '2017-02-21'),\n",
       " (0.32, '2017-02-22'),\n",
       " (0.01, '2017-02-23'),\n",
       " (0.0, '2017-02-24'),\n",
       " (0.12, '2017-02-25'),\n",
       " (0.0, '2017-02-26'),\n",
       " (0.0, '2017-02-27'),\n",
       " (0.58, '2017-02-28'),\n",
       " (2.4, '2017-03-01'),\n",
       " (1.88, '2017-03-02'),\n",
       " (0.56, '2017-03-03'),\n",
       " (0.0, '2017-03-04'),\n",
       " (0.41, '2017-03-05'),\n",
       " (0.51, '2017-03-06'),\n",
       " (0.0, '2017-03-07'),\n",
       " (0.0, '2017-03-08'),\n",
       " (0.8, '2017-03-09'),\n",
       " (0.13, '2017-03-10'),\n",
       " (0.03, '2017-03-11'),\n",
       " (0.0, '2017-03-12'),\n",
       " (0.0, '2017-03-13'),\n",
       " (0.06, '2017-03-14'),\n",
       " (0.06, '2017-03-15'),\n",
       " (0.0, '2017-03-16'),\n",
       " (0.35, '2017-03-17'),\n",
       " (0.0, '2017-03-18'),\n",
       " (0.0, '2017-03-19'),\n",
       " (0.02, '2017-03-20'),\n",
       " (0.09, '2017-03-21'),\n",
       " (0.0, '2017-03-22'),\n",
       " (0.03, '2017-03-23'),\n",
       " (0.6, '2017-03-24'),\n",
       " (0.93, '2017-03-25'),\n",
       " (0.0, '2017-03-26'),\n",
       " (0.01, '2017-03-27'),\n",
       " (0.68, '2017-03-28'),\n",
       " (0.08, '2017-03-29'),\n",
       " (0.08, '2017-03-30'),\n",
       " (0.01, '2017-03-31'),\n",
       " (0.21, '2017-04-01'),\n",
       " (0.0, '2017-04-02'),\n",
       " (0.26, '2017-04-03'),\n",
       " (0.09, '2017-04-04'),\n",
       " (0.45, '2017-04-05'),\n",
       " (0.06, '2017-04-06'),\n",
       " (0.0, '2017-04-07'),\n",
       " (0.0, '2017-04-08'),\n",
       " (0.0, '2017-04-09'),\n",
       " (0.01, '2017-04-10'),\n",
       " (0.25, '2017-04-11'),\n",
       " (0.65, '2017-04-12'),\n",
       " (0.59, '2017-04-13'),\n",
       " (2.82, '2017-04-14'),\n",
       " (0.9, '2017-04-15'),\n",
       " (0.49, '2017-04-16'),\n",
       " (1.3, '2017-04-17'),\n",
       " (2.03, '2017-04-18'),\n",
       " (0.14, '2017-04-19'),\n",
       " (0.35, '2017-04-20'),\n",
       " (2.36, '2017-04-21'),\n",
       " (1.58, '2017-04-22'),\n",
       " (0.35, '2017-04-23'),\n",
       " (0.05, '2017-04-24'),\n",
       " (0.0, '2017-04-25'),\n",
       " (0.22, '2017-04-26'),\n",
       " (0.19, '2017-04-27'),\n",
       " (2.6, '2017-04-28'),\n",
       " (6.25, '2017-04-29'),\n",
       " (1.31, '2017-04-30'),\n",
       " (0.26, '2017-05-01'),\n",
       " (0.03, '2017-05-02'),\n",
       " (0.01, '2017-05-03'),\n",
       " (0.08, '2017-05-04'),\n",
       " (0.28, '2017-05-05'),\n",
       " (0.06, '2017-05-06'),\n",
       " (0.07, '2017-05-07'),\n",
       " (1.11, '2017-05-08'),\n",
       " (1.62, '2017-05-09'),\n",
       " (0.55, '2017-05-10'),\n",
       " (0.44, '2017-05-11'),\n",
       " (0.1, '2017-05-12'),\n",
       " (0.12, '2017-05-13'),\n",
       " (1.0, '2017-05-14'),\n",
       " (0.6, '2017-05-15'),\n",
       " (0.3, '2017-05-16'),\n",
       " (0.07, '2017-05-17'),\n",
       " (0.46, '2017-05-18'),\n",
       " (0.02, '2017-05-19'),\n",
       " (0.02, '2017-05-20'),\n",
       " (0.01, '2017-05-21'),\n",
       " (0.3, '2017-05-22'),\n",
       " (0.44, '2017-05-23'),\n",
       " (2.17, '2017-05-24'),\n",
       " (0.88, '2017-05-25'),\n",
       " (0.02, '2017-05-26'),\n",
       " (0.5, '2017-05-27'),\n",
       " (0.29, '2017-05-28'),\n",
       " (0.4, '2017-05-29'),\n",
       " (1.12, '2017-05-30'),\n",
       " (0.25, '2017-05-31'),\n",
       " (0.03, '2017-06-01'),\n",
       " (0.15, '2017-06-02'),\n",
       " (0.2, '2017-06-03'),\n",
       " (0.82, '2017-06-04'),\n",
       " (0.05, '2017-06-05'),\n",
       " (0.0, '2017-06-06'),\n",
       " (0.01, '2017-06-07'),\n",
       " (0.02, '2017-06-08'),\n",
       " (0.02, '2017-06-09'),\n",
       " (0.62, '2017-06-10'),\n",
       " (0.74, '2017-06-11'),\n",
       " (0.81, '2017-06-12'),\n",
       " (0.65, '2017-06-13'),\n",
       " (0.81, '2017-06-14'),\n",
       " (1.69, '2017-06-15'),\n",
       " (0.1, '2017-06-16'),\n",
       " (0.35, '2017-06-17'),\n",
       " (0.7, '2017-06-18'),\n",
       " (0.4, '2017-06-19'),\n",
       " (0.31, '2017-06-20'),\n",
       " (0.3, '2017-06-21'),\n",
       " (0.28, '2017-06-22'),\n",
       " (0.5, '2017-06-23'),\n",
       " (0.36, '2017-06-24'),\n",
       " (0.5, '2017-06-25'),\n",
       " (0.06, '2017-06-26'),\n",
       " (0.1, '2017-06-27'),\n",
       " (0.02, '2017-06-28'),\n",
       " (0.04, '2017-06-29'),\n",
       " (0.2, '2017-06-30'),\n",
       " (0.1, '2017-07-01'),\n",
       " (0.5, '2017-07-02'),\n",
       " (0.4, '2017-07-03'),\n",
       " (0.08, '2017-07-04'),\n",
       " (0.0, '2017-07-05'),\n",
       " (0.02, '2017-07-06'),\n",
       " (0.3, '2017-07-07'),\n",
       " (0.06, '2017-07-08'),\n",
       " (0.11, '2017-07-09'),\n",
       " (0.02, '2017-07-10'),\n",
       " (0.02, '2017-07-11'),\n",
       " (0.28, '2017-07-12'),\n",
       " (0.68, '2017-07-13'),\n",
       " (0.68, '2017-07-14'),\n",
       " (0.1, '2017-07-15'),\n",
       " (0.5, '2017-07-16'),\n",
       " (0.39, '2017-07-17'),\n",
       " (2.4, '2017-07-18'),\n",
       " (0.27, '2017-07-19'),\n",
       " (0.7, '2017-07-20'),\n",
       " (0.1, '2017-07-21'),\n",
       " (4.0, '2017-07-22'),\n",
       " (0.8, '2017-07-23'),\n",
       " (1.19, '2017-07-24'),\n",
       " (0.3, '2017-07-25'),\n",
       " (0.3, '2017-07-26'),\n",
       " (0.01, '2017-07-27'),\n",
       " (0.4, '2017-07-28'),\n",
       " (0.3, '2017-07-29'),\n",
       " (0.3, '2017-07-30'),\n",
       " (0.0, '2017-07-31'),\n",
       " (0.12, '2017-08-01'),\n",
       " (0.25, '2017-08-02'),\n",
       " (0.06, '2017-08-03'),\n",
       " (0.04, '2017-08-04'),\n",
       " (0.06, '2017-08-05'),\n",
       " (0.0, '2017-08-06'),\n",
       " (0.05, '2017-08-07'),\n",
       " (0.34, '2017-08-08'),\n",
       " (0.15, '2017-08-09'),\n",
       " (0.07, '2017-08-10'),\n",
       " (0.0, '2017-08-11'),\n",
       " (0.14, '2017-08-12'),\n",
       " (0.0, '2017-08-13'),\n",
       " (0.22, '2017-08-14'),\n",
       " (0.42, '2017-08-15'),\n",
       " (0.42, '2017-08-16'),\n",
       " (0.13, '2017-08-17'),\n",
       " (0.06, '2017-08-18'),\n",
       " (0.09, '2017-08-19'),\n",
       " (0.01, '2017-08-20'),\n",
       " (0.56, '2017-08-21'),\n",
       " (0.5, '2017-08-22'),\n",
       " (0.45, '2017-08-23')]"
      ]
     },
     "execution_count": 137,
     "metadata": {},
     "output_type": "execute_result"
    }
   ],
   "source": [
    "# perform a query to retrieve the date and max precipitation for each date over time range\n",
    "year_data = session.query(func.max(Measurement.prcp), Measurement.date).\\\n",
    "    filter(Measurement.date>=year_prior_string).\\\n",
    "    group_by(Measurement.date).all()\n",
    "year_data"
   ]
  },
  {
   "cell_type": "code",
   "execution_count": 140,
   "metadata": {},
   "outputs": [
    {
     "data": {
      "text/html": [
       "<div>\n",
       "<style scoped>\n",
       "    .dataframe tbody tr th:only-of-type {\n",
       "        vertical-align: middle;\n",
       "    }\n",
       "\n",
       "    .dataframe tbody tr th {\n",
       "        vertical-align: top;\n",
       "    }\n",
       "\n",
       "    .dataframe thead th {\n",
       "        text-align: right;\n",
       "    }\n",
       "</style>\n",
       "<table border=\"1\" class=\"dataframe\">\n",
       "  <thead>\n",
       "    <tr style=\"text-align: right;\">\n",
       "      <th></th>\n",
       "      <th>Precipitation</th>\n",
       "    </tr>\n",
       "    <tr>\n",
       "      <th>Date</th>\n",
       "      <th></th>\n",
       "    </tr>\n",
       "  </thead>\n",
       "  <tbody>\n",
       "    <tr>\n",
       "      <th>2016-08-23</th>\n",
       "      <td>1.79</td>\n",
       "    </tr>\n",
       "    <tr>\n",
       "      <th>2016-08-24</th>\n",
       "      <td>2.28</td>\n",
       "    </tr>\n",
       "    <tr>\n",
       "      <th>2016-08-25</th>\n",
       "      <td>0.21</td>\n",
       "    </tr>\n",
       "    <tr>\n",
       "      <th>2016-08-26</th>\n",
       "      <td>0.04</td>\n",
       "    </tr>\n",
       "    <tr>\n",
       "      <th>2016-08-27</th>\n",
       "      <td>0.18</td>\n",
       "    </tr>\n",
       "  </tbody>\n",
       "</table>\n",
       "</div>"
      ],
      "text/plain": [
       "            Precipitation\n",
       "Date                     \n",
       "2016-08-23           1.79\n",
       "2016-08-24           2.28\n",
       "2016-08-25           0.21\n",
       "2016-08-26           0.04\n",
       "2016-08-27           0.18"
      ]
     },
     "execution_count": 140,
     "metadata": {},
     "output_type": "execute_result"
    }
   ],
   "source": [
    "### Save the query results as a Pandas DataFrame and set the index to the date column\n",
    "\n",
    "# create blank lists\n",
    "precip = []\n",
    "date = []\n",
    "\n",
    "# add query data to lists\n",
    "for data in year_data:\n",
    "    precip.append(data[0])\n",
    "    date.append(data[1])\n",
    "\n",
    "# create dataframe and sort by date\n",
    "precipitation = pd.DataFrame({\"Precipitation\": precip,\n",
    "                              \"Date\":date}).sort_values(by=\"Date\")\n",
    "\n",
    "# convert date column to datetime datatype - uncomment this if you'd like to perform this - will change the plot xaxis ticks\n",
    "#precipitation[\"Date\"] = pd.to_datetime(precipitation[\"Date\"])\n",
    "\n",
    "# set date column as the index & drop old date column\n",
    "precipitation = precipitation.set_index(precipitation[\"Date\"], inplace=False)[[\"Precipitation\"]]\n",
    "\n",
    "# display head of dataframe\n",
    "precipitation.head()"
   ]
  },
  {
   "cell_type": "code",
   "execution_count": 146,
   "metadata": {},
   "outputs": [
    {
     "data": {
      "image/png": "[encoded data removed]",
      "text/plain": [
       "<Figure size 1440x720 with 1 Axes>"
      ]
     },
     "metadata": {},
     "output_type": "display_data"
    }
   ],
   "source": [
    "# use pandas plotting with matplotlib to plot the data\n",
    "precip_plot = precipitation.plot(rot=90, figsize=(20, 10), \\\n",
    "                                 title=f\"Precipitation in Hawaii Over the Last Year\\n{year_prior} to {recent_date}\",\\\n",
    "                                 ylabel=\"Precipitation (in)\")\n",
    "plt.show()"
   ]
  },
  {
   "cell_type": "code",
   "execution_count": 136,
   "metadata": {},
   "outputs": [
    {
     "data": {
      "text/html": [
       "<div>\n",
       "<style scoped>\n",
       "    .dataframe tbody tr th:only-of-type {\n",
       "        vertical-align: middle;\n",
       "    }\n",
       "\n",
       "    .dataframe tbody tr th {\n",
       "        vertical-align: top;\n",
       "    }\n",
       "\n",
       "    .dataframe thead th {\n",
       "        text-align: right;\n",
       "    }\n",
       "</style>\n",
       "<table border=\"1\" class=\"dataframe\">\n",
       "  <thead>\n",
       "    <tr style=\"text-align: right;\">\n",
       "      <th></th>\n",
       "      <th>Precipitation</th>\n",
       "    </tr>\n",
       "  </thead>\n",
       "  <tbody>\n",
       "    <tr>\n",
       "      <th>count</th>\n",
       "      <td>366.000000</td>\n",
       "    </tr>\n",
       "    <tr>\n",
       "      <th>mean</th>\n",
       "      <td>0.978907</td>\n",
       "    </tr>\n",
       "    <tr>\n",
       "      <th>std</th>\n",
       "      <td>1.776349</td>\n",
       "    </tr>\n",
       "    <tr>\n",
       "      <th>min</th>\n",
       "      <td>0.000000</td>\n",
       "    </tr>\n",
       "    <tr>\n",
       "      <th>25%</th>\n",
       "      <td>0.052500</td>\n",
       "    </tr>\n",
       "    <tr>\n",
       "      <th>50%</th>\n",
       "      <td>0.405000</td>\n",
       "    </tr>\n",
       "    <tr>\n",
       "      <th>75%</th>\n",
       "      <td>1.087500</td>\n",
       "    </tr>\n",
       "    <tr>\n",
       "      <th>max</th>\n",
       "      <td>14.280000</td>\n",
       "    </tr>\n",
       "  </tbody>\n",
       "</table>\n",
       "</div>"
      ],
      "text/plain": [
       "       Precipitation\n",
       "count     366.000000\n",
       "mean        0.978907\n",
       "std         1.776349\n",
       "min         0.000000\n",
       "25%         0.052500\n",
       "50%         0.405000\n",
       "75%         1.087500\n",
       "max        14.280000"
      ]
     },
     "execution_count": 136,
     "metadata": {},
     "output_type": "execute_result"
    }
   ],
   "source": [
    "# use pandas to calcualte the summary statistics for the precipitation data\n",
    "precipitation.describe()"
   ]
  },
  {
   "cell_type": "markdown",
   "metadata": {},
   "source": [
    "# Exploratory Station Analysis"
   ]
  },
  {
   "cell_type": "code",
   "execution_count": 63,
   "metadata": {},
   "outputs": [
    {
     "name": "stdout",
     "output_type": "stream",
     "text": [
      "Total number of stations in dataset: 9\n"
     ]
    }
   ],
   "source": [
    "# Design a query to calculate the total number stations in the dataset\n",
    "num_stations = session.query(Measurement.station).distinct().all()\n",
    "print(f\"Total number of stations in dataset: {len(num_stations)}\")"
   ]
  },
  {
   "cell_type": "code",
   "execution_count": 54,
   "metadata": {},
   "outputs": [
    {
     "data": {
      "text/plain": [
       "[('USC00519281', 2772),\n",
       " ('USC00519397', 2724),\n",
       " ('USC00513117', 2709),\n",
       " ('USC00519523', 2669),\n",
       " ('USC00516128', 2612),\n",
       " ('USC00514830', 2202),\n",
       " ('USC00511918', 1979),\n",
       " ('USC00517948', 1372),\n",
       " ('USC00518838', 511)]"
      ]
     },
     "execution_count": 54,
     "metadata": {},
     "output_type": "execute_result"
    }
   ],
   "source": [
    "# Design a query to find the most active stations (i.e. what stations have the most rows?)\n",
    "# List the stations and the counts in descending order.\n",
    "active_stations = session.query(Measurement.station, func.count(Measurement.station)).group_by(Measurement.station).order_by(desc(func.count(Measurement.station))).all()\n",
    "active_stations"
   ]
  },
  {
   "cell_type": "code",
   "execution_count": 95,
   "metadata": {},
   "outputs": [
    {
     "name": "stdout",
     "output_type": "stream",
     "text": [
      "Most Active Station (USC00519281) Stats:\n",
      "Lowest Temp: 54.0\n",
      "Highest Temp: 85.0\n",
      "Average Temp: 71.66\n"
     ]
    }
   ],
   "source": [
    "# Using the most active station id from the previous query, calculate the lowest, highest, and average temperature.\n",
    "most_active_station = active_stations[0][0]\n",
    "most_active_station_stats = session.query(func.min(Measurement.tobs), func.max(Measurement.tobs), func.avg(Measurement.tobs)).\\\n",
    "    filter(Measurement.station == most_active_station).all()\n",
    "print(f\"Most Active Station ({most_active_station}) Stats:\\nLowest Temp: {most_active_station_stats[0][0]}\\nHighest Temp: {most_active_station_stats[0][1]}\\nAverage Temp: {round(most_active_station_stats[0][2],2)}\")"
   ]
  },
  {
   "cell_type": "code",
   "execution_count": 69,
   "metadata": {},
   "outputs": [],
   "source": [
    "# Using the most active station id\n",
    "# Query the last 12 months of temperature observation data for this station and plot the results as a histogram\n",
    "year_most_active_station = session.query(Measurement.tobs).\\\n",
    "    filter(Measurement.station == most_active_station).\\\n",
    "    filter(Measurement.date>=year_prior_string).all()\n",
    "flattened_temps = [x[0] for x in year_most_active_station]"
   ]
  },
  {
   "cell_type": "code",
   "execution_count": 74,
   "metadata": {},
   "outputs": [
    {
     "data": {
      "image/png": "[encoded data removed]",
      "text/plain": [
       "<Figure size 432x288 with 1 Axes>"
      ]
     },
     "metadata": {},
     "output_type": "display_data"
    }
   ],
   "source": [
    "plt.hist(flattened_temps, bins=12)\n",
    "plt.title(f\"Histogram of One Year Temperature Observation Data for Station {most_active_station}\", size=10)\n",
    "plt.xlabel(\"Temperature Observed\")\n",
    "plt.ylabel(\"Temperature Frequency\")\n",
    "plt.show()"
   ]
  },
  {
   "cell_type": "markdown",
   "metadata": {},
   "source": [
    "# Close session"
   ]
  },
  {
   "cell_type": "code",
   "execution_count": 75,
   "metadata": {},
   "outputs": [],
   "source": [
    "# close session\n",
    "session.close()"
   ]
  },
  {
   "cell_type": "code",
   "execution_count": null,
   "metadata": {},
   "outputs": [],
   "source": []
  }
 ],
 "metadata": {
  "anaconda-cloud": {},
  "kernel_info": {
   "name": "python3"
  },
  "kernelspec": {
   "display_name": "Python 3",
   "language": "python",
   "name": "python3"
  },
  "language_info": {
   "codemirror_mode": {
    "name": "ipython",
    "version": 3
   },
   "file_extension": ".py",
   "mimetype": "text/x-python",
   "name": "python",
   "nbconvert_exporter": "python",
   "pygments_lexer": "ipython3",
   "version": "3.8.5"
  },
  "nteract": {
   "version": "0.12.3"
  },
  "varInspector": {
   "cols": {
    "lenName": 16,
    "lenType": 16,
    "lenVar": 40
   },
   "kernels_config": {
    "python": {
     "delete_cmd_postfix": "",
     "delete_cmd_prefix": "del ",
     "library": "var_list.py",
     "varRefreshCmd": "print(var_dic_list())"
    },
    "r": {
     "delete_cmd_postfix": ") ",
     "delete_cmd_prefix": "rm(",
     "library": "var_list.r",
     "varRefreshCmd": "cat(var_dic_list()) "
    }
   },
   "types_to_exclude": [
    "module",
    "function",
    "builtin_function_or_method",
    "instance",
    "_Feature"
   ],
   "window_display": false
  }
 },
 "nbformat": 4,
 "nbformat_minor": 2
}
